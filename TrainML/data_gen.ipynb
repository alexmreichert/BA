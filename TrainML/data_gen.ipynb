{
 "cells": [
  {
   "cell_type": "markdown",
   "metadata": {},
   "source": [
    "#imports and constants"
   ]
  },
  {
   "cell_type": "code",
   "execution_count": 2,
   "metadata": {},
   "outputs": [
    {
     "name": "stdout",
     "output_type": "stream",
     "text": [
      "Jupyter environment detected. Enabling Open3D WebVisualizer.\n",
      "[Open3D INFO] WebRTC GUI backend enabled.\n",
      "[Open3D INFO] WebRTCWindowSystem: HTTP handshake server disabled.\n"
     ]
    }
   ],
   "source": [
    "import os\n",
    "from tqdm import tqdm\n",
    "from azure.storage.blob import ContainerClient\n",
    "from azure.core import exceptions\n",
    "import yaml\n",
    "from distutils.command.config import config\n",
    "from tkinter import N\n",
    "from azure.servicebus import ServiceBusClient, ServiceBusMessage, exceptions \n",
    "from copy import deepcopy\n",
    "\n",
    "import open3d as o3d\n",
    "import numpy as np\n",
    "import h5py\n",
    "\n",
    "#functions\n",
    "def load_config(dir_config):\n",
    "    with open(os.path.join(dir_config, \"config.yaml\"), \"r\") as yamlfile:\n",
    "        return yaml.load(yamlfile, Loader=yaml.FullLoader)\n",
    "\n",
    "\n",
    "\n",
    "pipename_local_to_data_prep = \"lmdp\"\n",
    "pipename_data_prep_to_local= \"dplm\"\n",
    "pipename_data_prep_to_ID_NN= \"dpin\"\n",
    "pipename_data_prep_to_ID_reg= \"dpir\"\n",
    "pipename_img_gen_to_train_reg= \"imtr\"\n",
    "pipename_img_gen_to_train_ML= \"imtm\"\n",
    "pipename_train_ML_to_train_ML= \"tmtm\"\n",
    "pipename_local_to_img_gen= \"lmim\"\n"
   ]
  },
  {
   "cell_type": "markdown",
   "metadata": {},
   "source": [
    "Parameters"
   ]
  },
  {
   "cell_type": "code",
   "execution_count": 3,
   "metadata": {},
   "outputs": [],
   "source": [
    "point_length=2048\n",
    "test_portion=0.2\n",
    "config=load_config(\"\")"
   ]
  },
  {
   "cell_type": "markdown",
   "metadata": {},
   "source": [
    "Messaging"
   ]
  },
  {
   "cell_type": "code",
   "execution_count": 3,
   "metadata": {},
   "outputs": [],
   "source": [
    "size_dataset=3731#len(filenames)\n",
    "labels_to_prune=np.zeros((size_dataset))\n",
    "label_names=['Bauteil-007', 'Bauteil-013', 'Bauteil-014', 'Bauteil-017', 'Bauteil-020', 'Bauteil-021', 'Bauteil-025','Bauteil-027', 'Bauteil-029', 'Bauteil-030']\n"
   ]
  },
  {
   "cell_type": "markdown",
   "metadata": {},
   "source": [
    "intiate"
   ]
  },
  {
   "cell_type": "code",
   "execution_count": 4,
   "metadata": {},
   "outputs": [],
   "source": [
    "#initiate nparray for points and labels\n",
    "points=np.zeros((size_dataset,point_length,3)) #shape: size_dataset x point_lenght x 3\n",
    "labels=np.zeros((size_dataset)) #shape: size_dataset"
   ]
  },
  {
   "cell_type": "markdown",
   "metadata": {},
   "source": [
    "grab data"
   ]
  },
  {
   "cell_type": "code",
   "execution_count": 5,
   "metadata": {},
   "outputs": [],
   "source": [
    "container_name=config[\"container_name\"]+pipename_img_gen_to_train_ML\n",
    "container_client = ContainerClient.from_connection_string(config[\"azure_storage_connectionstring\"], container_name)\n",
    "save_path=config[\"save_folder\"]\n",
    "if not container_client.exists(): \n",
    "    print(\"wrong connection_string\")\n",
    "else:\n",
    "    blobs=container_client.list_blobs()\n",
    "    # print(f\"len blobs {len(blobs)}\")\n",
    "    counter=0\n",
    "    for blob in blobs:\n",
    "        blob_name=blob.name\n",
    "        StorageStreamDownloader = container_client.download_blob(blob)\n",
    "        filename=os.path.join(save_path,blob_name)\n",
    "        try:\n",
    "            file = open(filename, 'wb')\n",
    "        except FileNotFoundError:\n",
    "            os.mkdir(save_path)\n",
    "            file = open(filename, 'wb')\n",
    "        data=StorageStreamDownloader.readall()\n",
    "        # container_client.delete_blob(blob, delete_snapshots=\"include\")\n",
    "        file.write(data)\n",
    "        file.close()\n",
    "    \n",
    "        pcd=o3d.io.read_point_cloud(filename)\n",
    "        pcd_points=np.asarray(pcd.points)\n",
    "        idx=np.arange(len(pcd_points))\n",
    "        np.random.shuffle(idx)\n",
    "        idx = idx[:point_length]\n",
    "        points_sampled=pcd_points[idx,:]\n",
    "        points[counter,:,:]=points_sampled\n",
    "        blob_label=blob_name.split(\"_\")[0]\n",
    "        labels[counter]=label_names.index(blob_label)\n",
    "        counter+=1"
   ]
  },
  {
   "cell_type": "markdown",
   "metadata": {},
   "source": [
    "##split dataset into test and trian"
   ]
  },
  {
   "cell_type": "code",
   "execution_count": 6,
   "metadata": {},
   "outputs": [
    {
     "name": "stdout",
     "output_type": "stream",
     "text": [
      "points: (2985, 2048, 3)\n",
      "points: (746, 2048, 3)\n",
      "labels: (2985,)\n",
      "labels: (746,)\n"
     ]
    }
   ],
   "source": [
    "idx_dataset=np.arange(size_dataset)#idx \n",
    "np.random.shuffle(idx_dataset)#shuffle\n",
    "idx_cutoff=int(np.ceil((size_dataset*(1-test_portion))))#idx_of_idx  cut off\n",
    "idx_train=idx_dataset[:idx_cutoff]#idx for testing\n",
    "idx_test=idx_dataset[idx_cutoff:]#idx for training\n",
    "train_points=points[idx_train,:,:]#train points\n",
    "test_points=points[idx_test,:,:]#test points#\n",
    "train_labels=labels[idx_train]#train labels\n",
    "test_labels=labels[idx_test]#test labels\n",
    "\n",
    "print(f\"points: {train_points.shape}\")\n",
    "print(f\"points: {test_points.shape}\")\n",
    "print(f\"labels: {train_labels.shape}\")\n",
    "print(f\"labels: {test_labels.shape}\")"
   ]
  },
  {
   "cell_type": "markdown",
   "metadata": {},
   "source": [
    "##Remove Bias"
   ]
  },
  {
   "cell_type": "code",
   "execution_count": 31,
   "metadata": {},
   "outputs": [
    {
     "name": "stdout",
     "output_type": "stream",
     "text": [
      "points: (1910, 2048, 3)\n",
      "points: (560, 2048, 3)\n",
      "labels: (1910,)\n",
      "labels: (560,)\n"
     ]
    }
   ],
   "source": [
    "sets=[[train_labels,train_points],[test_labels,test_points]]#loop through train and test set\n",
    "new_sets=[]\n",
    "for iter_labels, iter_points in sets:\n",
    "    unique, count = np.unique(iter_labels,return_counts=True) #find amount count of labels \n",
    "    prune_len=np.amin(count)#prune length = smallest label\n",
    "    new_size=len(unique)*prune_len#new datasetsize\n",
    "    new_labels=np.zeros((new_size))\n",
    "    new_points=np.zeros((new_size,point_length,3))\n",
    "    i=0\n",
    "    for label in unique:#for each unique label \n",
    "        index_label = np.where(iter_labels == label)[0]#get all index for each unqiue label\n",
    "        new_labels[i*prune_len:(i+1)*prune_len]=iter_labels[index_label[:prune_len]]#prune length and save to new length\n",
    "        new_points[i*prune_len:(i+1)*prune_len,:,:]=iter_points[index_label[:prune_len],:,:]\n",
    "        i+=1\n",
    "    index_shuffle=np.arange(new_size)\n",
    "    np.random.shuffle(index_shuffle)\n",
    "    new_labels=new_labels[index_shuffle]\n",
    "    new_points=new_points[index_shuffle,:,:]\n",
    "    new_sets.append([new_labels,new_points])\n",
    "[[train_labels,train_points],[test_labels,test_points]]=  new_sets\n",
    "\n",
    "print(f\"points: {train_points.shape}\")\n",
    "print(f\"points: {test_points.shape}\")\n",
    "print(f\"labels: {train_labels.shape}\")\n",
    "print(f\"labels: {test_labels.shape}\")"
   ]
  },
  {
   "cell_type": "markdown",
   "metadata": {},
   "source": [
    "##Statistical view of dataset"
   ]
  },
  {
   "cell_type": "code",
   "execution_count": 46,
   "metadata": {},
   "outputs": [],
   "source": [
    "import matplotlib.pyplot as plt\n",
    "from matplotlib.ticker import PercentFormatter"
   ]
  },
  {
   "cell_type": "code",
   "execution_count": 59,
   "metadata": {},
   "outputs": [
    {
     "data": {
      "image/png": "[encoded data removed]",
      "text/plain": [
       "<Figure size 1440x720 with 1 Axes>"
      ]
     },
     "metadata": {
      "needs_background": "light"
     },
     "output_type": "display_data"
    }
   ],
   "source": [
    "labels_1=np.asarray(test_labels)\n",
    "labels_2=np.asarray(train_labels)\n",
    "unique_1=np.unique(labels_1)\n",
    "unique_2=np.unique(labels_2)\n",
    "plt.ylabel('Occurance')\n",
    "plt.title('Frequency of Classes')\n",
    "hist1=plt.hist(labels_1,bins=len(unique_1),alpha=0.5, label=\"test\", density=True, color=[0,0,1])\n",
    "hist2=plt.hist(labels_2,bins=len(unique_2),alpha=0.5, label=\"train\", density=True, color=[0,1,0])\n",
    "# print(hist1)\n",
    "plt.xticks(ticks=unique_1 ,labels=label_names)\n",
    "plt.legend(loc='upper right')\n",
    "plt.gca().yaxis.set_major_formatter(PercentFormatter(xmax=1.0))\n",
    "plt.rcParams[\"figure.figsize\"] = plt.rcParamsDefault[\"figure.figsize\"]\n",
    "plt.show()"
   ]
  },
  {
   "cell_type": "markdown",
   "metadata": {},
   "source": [
    "create .h5 file"
   ]
  },
  {
   "cell_type": "code",
   "execution_count": 60,
   "metadata": {},
   "outputs": [],
   "source": [
    "f = h5py.File('10_2048data_train.h5', 'w')\n",
    "dataset_points=f.create_dataset(name=\"data\",shape=train_points.shape,dtype=np.dtype(\"float32\"),data=train_points)\n",
    "dataset_points=f.create_dataset(name=\"label\",shape=train_labels.shape,dtype=np.dtype(int),data=train_labels)\n",
    "f.close()\n",
    "\n",
    "f = h5py.File('10_2048data_test.h5', 'w')\n",
    "dataset_points=f.create_dataset(name=\"data\",shape=test_points.shape,dtype=np.dtype(\"float32\"),data=test_points)\n",
    "dataset_points=f.create_dataset(name=\"label\",shape=test_labels.shape,dtype=np.dtype(int),data=test_labels)\n",
    "f.close()"
   ]
  },
  {
   "cell_type": "code",
   "execution_count": 3,
   "metadata": {},
   "outputs": [
    {
     "name": "stdout",
     "output_type": "stream",
     "text": [
      "(168, 1024, 3)\n",
      "(168,)\n",
      "[14 18 10 11  1 23 21 12  0 19  9  0  4  8  7 16 23 12  4 20  5 18  4 13\n",
      " 19 10  0  9  5  8  9 19  5  2  5  0  3  2 14 14 18 19 11  7 23  6 13  0\n",
      " 12 11  9 10  7 18  1 14 20  7  3 21 15 20 21  1 10 17 11 11 16  3 22  5\n",
      "  9  1 17 18  4 13 17 13 16  4  2 23 21  8  3 17 11  7 16 10 15 21 19 13\n",
      "  0  2  2  9  5 13  7 12 12 21 20  3 14 22 20  1 20 14  8 22 22 16 16 23\n",
      " 14 10  4 21  0 17 10  2  6  6  6 15  9  8  4  3 15  3 22 12 16 23 17 15\n",
      " 15 23  1 18 22 20  2  1  6 12 19 13  8  7 11  8 17 22  6 18 15  5  6 19]\n"
     ]
    }
   ],
   "source": [
    "f = h5py.File(\"ml_radius-0_noise-0_view-0_batch-0_size-0_variation-1_test_.h5\", 'r+')\n",
    "data = f['data'][:].astype('float32')\n",
    "label = f['label'][:].astype('int64')\n",
    "print(data.shape)\n",
    "print(label.shape)\n",
    "print(label)\n",
    "f.close()"
   ]
  },
  {
   "cell_type": "markdown",
   "metadata": {},
   "source": [
    "look at data"
   ]
  },
  {
   "cell_type": "code",
   "execution_count": 4,
   "metadata": {},
   "outputs": [],
   "source": [
    "import open3d as o3d"
   ]
  },
  {
   "cell_type": "code",
   "execution_count": 5,
   "metadata": {},
   "outputs": [
    {
     "name": "stdout",
     "output_type": "stream",
     "text": [
      "[Open3D WARNING] GLFW Error: WGL: Failed to make context current: The handle is invalid. \n",
      "[Open3D WARNING] GLFW Error: WGL: Failed to make context current: The requested transformation operation is not supported. \n"
     ]
    }
   ],
   "source": [
    "\n",
    "i=np.random.randint(0,len(label))\n",
    "# print(test_labels[i])\n",
    "# print(label_names[int(test_labels[i])])\n",
    "pcd = o3d.geometry.PointCloud()\n",
    "pcd.points= o3d.utility.Vector3dVector(data[i])\n",
    "o3d.visualization.draw_geometries([pcd])"
   ]
  }
 ],
 "metadata": {
  "kernelspec": {
   "display_name": "Python 3.9.0 64-bit (system)",
   "language": "python",
   "name": "python3"
  },
  "language_info": {
   "codemirror_mode": {
    "name": "ipython",
    "version": 3
   },
   "file_extension": ".py",
   "mimetype": "text/x-python",
   "name": "python",
   "nbconvert_exporter": "python",
   "pygments_lexer": "ipython3",
   "version": "3.9.0"
  },
  "orig_nbformat": 4,
  "vscode": {
   "interpreter": {
    "hash": "22000c05c3afcfbd783bf71318124a86aacb67da638cd89725168a4fec0b7d83"
   }
  }
 },
 "nbformat": 4,
 "nbformat_minor": 2
}
