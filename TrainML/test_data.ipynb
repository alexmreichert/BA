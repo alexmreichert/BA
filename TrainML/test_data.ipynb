{
 "cells": [
  {
   "cell_type": "code",
   "execution_count": 1,
   "metadata": {},
   "outputs": [
    {
     "name": "stdout",
     "output_type": "stream",
     "text": [
      "Jupyter environment detected. Enabling Open3D WebVisualizer.\n",
      "[Open3D INFO] WebRTC GUI backend enabled.\n",
      "[Open3D INFO] WebRTCWindowSystem: HTTP handshake server disabled.\n"
     ]
    }
   ],
   "source": [
    "import h5py\n",
    "import os\n",
    "import sys\n",
    "import numpy as np\n",
    "import open3d as o3d"
   ]
  },
  {
   "cell_type": "markdown",
   "metadata": {},
   "source": [
    "## LOAD DATASET"
   ]
  },
  {
   "cell_type": "code",
   "execution_count": 2,
   "metadata": {},
   "outputs": [],
   "source": [
    "label_names=['Bauteil-007', 'Bauteil-013', 'Bauteil-014', 'Bauteil-017', 'Bauteil-020', 'Bauteil-021', 'Bauteil-025','Bauteil-027', 'Bauteil-029', 'Bauteil-030']"
   ]
  },
  {
   "cell_type": "code",
   "execution_count": 7,
   "metadata": {},
   "outputs": [
    {
     "name": "stdout",
     "output_type": "stream",
     "text": [
      "1910\n"
     ]
    }
   ],
   "source": [
    "list_dir= os.listdir()\n",
    "points=[]\n",
    "labels=[]\n",
    "for file_name in list_dir:\n",
    "    if file_name.endswith(\"10_2048data_train.h5\"):\n",
    "        f=h5py.File(os.path.join(\"\", file_name), 'r+')\n",
    "        points_file=f[\"data\"][:]\n",
    "        labels_file=f[\"label\"][:]\n",
    "        f.close()\n",
    "        points.extend(list(points_file))\n",
    "        labels.extend(list(labels_file))\n",
    "print(len(points))"
   ]
  },
  {
   "cell_type": "code",
   "execution_count": 6,
   "metadata": {},
   "outputs": [
    {
     "name": "stdout",
     "output_type": "stream",
     "text": [
      "560\n"
     ]
    }
   ],
   "source": [
    "list_dir= os.listdir()\n",
    "test_points=[]\n",
    "test_labels=[]\n",
    "for file_name in list_dir:\n",
    "    if file_name.endswith(\"10_2048data_test.h5\"):\n",
    "        f=h5py.File(os.path.join(\"\", file_name), 'r+')\n",
    "        points_file=f[\"data\"][:]\n",
    "        labels_file=f[\"label\"][:]\n",
    "        f.close()\n",
    "        test_points.extend(list(points_file))\n",
    "        test_labels.extend(list(labels_file))\n",
    "print(len(test_points))"
   ]
  },
  {
   "cell_type": "markdown",
   "metadata": {},
   "source": [
    "Look at dataset"
   ]
  },
  {
   "cell_type": "code",
   "execution_count": 11,
   "metadata": {},
   "outputs": [
    {
     "name": "stdout",
     "output_type": "stream",
     "text": [
      "Bauteil-025\n"
     ]
    }
   ],
   "source": [
    "i=np.random.randint(0,len(points))\n",
    "print(label_names[labels[i]])\n",
    "pcd = o3d.geometry.PointCloud()\n",
    "pcd.points= o3d.utility.Vector3dVector(points[i])\n",
    "o3d.visualization.draw_geometries([pcd])"
   ]
  },
  {
   "cell_type": "markdown",
   "metadata": {},
   "source": [
    "Statistical view of dataset"
   ]
  },
  {
   "cell_type": "code",
   "execution_count": 12,
   "metadata": {},
   "outputs": [],
   "source": [
    "import matplotlib.pyplot as plt\n",
    "from matplotlib.ticker import PercentFormatter"
   ]
  },
  {
   "cell_type": "code",
   "execution_count": 13,
   "metadata": {},
   "outputs": [
    {
     "data": {
      "image/png": "[encoded data removed]",
      "text/plain": [
       "<Figure size 432x288 with 1 Axes>"
      ]
     },
     "metadata": {
      "needs_background": "light"
     },
     "output_type": "display_data"
    }
   ],
   "source": [
    "# def addlabels(x,y):\n",
    "#     for i in range(len(x)):\n",
    "#         plt.text(i,y[i],y[i])\n",
    "\n",
    "\n",
    "labels_1=np.asarray(test_labels)\n",
    "labels_2=np.asarray(labels)\n",
    "unique_1=np.unique(labels_1)\n",
    "unique_2=np.unique(labels_2)\n",
    "plt.ylabel('Occurance')\n",
    "plt.title('Frequency of Classes')\n",
    "hist1=plt.hist(labels_1,bins=len(unique_1),alpha=0.5, label=\"test\", density=True, color=[0,0,1])\n",
    "hist2=plt.hist(labels_2,bins=len(unique_2),alpha=0.5, label=\"train\", density=True, color=[0,1,0])\n",
    "# print(hist1)\n",
    "plt.xticks(ticks=unique_1 ,labels=label_names)\n",
    "plt.legend(loc='upper right')\n",
    "plt.gca().yaxis.set_major_formatter(PercentFormatter(xmax=1.0))\n",
    "plt.show()"
   ]
  },
  {
   "cell_type": "markdown",
   "metadata": {},
   "source": [
    "##TEST ML MODEL"
   ]
  },
  {
   "cell_type": "code",
   "execution_count": 14,
   "metadata": {},
   "outputs": [],
   "source": [
    "import torch\n",
    "from model import DGCNN_cls\n",
    "import argparse"
   ]
  },
  {
   "cell_type": "code",
   "execution_count": 15,
   "metadata": {},
   "outputs": [],
   "source": [
    "parser = argparse.ArgumentParser(description='Point Cloud Recognition')\n",
    "parser.add_argument('--k', type=int, default=20, metavar='N',\n",
    "                        help='Num of nearest neighbors to use')\n",
    "parser.add_argument('--emb_dims', type=int, default=2048, metavar='N',\n",
    "                        help='Dimension of embeddings')\n",
    "parser.add_argument('--dropout', type=float, default=0.5,\n",
    "                        help='initial dropout rate')\n",
    "args = parser.parse_args(args=[])"
   ]
  },
  {
   "cell_type": "code",
   "execution_count": 16,
   "metadata": {},
   "outputs": [
    {
     "data": {
      "text/plain": [
       "DataParallel(\n",
       "  (module): DGCNN_cls(\n",
       "    (bn1): BatchNorm2d(64, eps=1e-05, momentum=0.1, affine=True, track_running_stats=True)\n",
       "    (bn2): BatchNorm2d(64, eps=1e-05, momentum=0.1, affine=True, track_running_stats=True)\n",
       "    (bn3): BatchNorm2d(128, eps=1e-05, momentum=0.1, affine=True, track_running_stats=True)\n",
       "    (bn4): BatchNorm2d(256, eps=1e-05, momentum=0.1, affine=True, track_running_stats=True)\n",
       "    (bn5): BatchNorm1d(2048, eps=1e-05, momentum=0.1, affine=True, track_running_stats=True)\n",
       "    (conv1): Sequential(\n",
       "      (0): Conv2d(6, 64, kernel_size=(1, 1), stride=(1, 1), bias=False)\n",
       "      (1): BatchNorm2d(64, eps=1e-05, momentum=0.1, affine=True, track_running_stats=True)\n",
       "      (2): LeakyReLU(negative_slope=0.2)\n",
       "    )\n",
       "    (conv2): Sequential(\n",
       "      (0): Conv2d(128, 64, kernel_size=(1, 1), stride=(1, 1), bias=False)\n",
       "      (1): BatchNorm2d(64, eps=1e-05, momentum=0.1, affine=True, track_running_stats=True)\n",
       "      (2): LeakyReLU(negative_slope=0.2)\n",
       "    )\n",
       "    (conv3): Sequential(\n",
       "      (0): Conv2d(128, 128, kernel_size=(1, 1), stride=(1, 1), bias=False)\n",
       "      (1): BatchNorm2d(128, eps=1e-05, momentum=0.1, affine=True, track_running_stats=True)\n",
       "      (2): LeakyReLU(negative_slope=0.2)\n",
       "    )\n",
       "    (conv4): Sequential(\n",
       "      (0): Conv2d(256, 256, kernel_size=(1, 1), stride=(1, 1), bias=False)\n",
       "      (1): BatchNorm2d(256, eps=1e-05, momentum=0.1, affine=True, track_running_stats=True)\n",
       "      (2): LeakyReLU(negative_slope=0.2)\n",
       "    )\n",
       "    (conv5): Sequential(\n",
       "      (0): Conv1d(512, 2048, kernel_size=(1,), stride=(1,), bias=False)\n",
       "      (1): BatchNorm1d(2048, eps=1e-05, momentum=0.1, affine=True, track_running_stats=True)\n",
       "      (2): LeakyReLU(negative_slope=0.2)\n",
       "    )\n",
       "    (linear1): Linear(in_features=4096, out_features=512, bias=False)\n",
       "    (bn6): BatchNorm1d(512, eps=1e-05, momentum=0.1, affine=True, track_running_stats=True)\n",
       "    (dp1): Dropout(p=0.5, inplace=False)\n",
       "    (linear2): Linear(in_features=512, out_features=256, bias=True)\n",
       "    (bn7): BatchNorm1d(256, eps=1e-05, momentum=0.1, affine=True, track_running_stats=True)\n",
       "    (dp2): Dropout(p=0.5, inplace=False)\n",
       "    (linear3): Linear(in_features=256, out_features=40, bias=True)\n",
       "  )\n",
       ")"
      ]
     },
     "execution_count": 16,
     "metadata": {},
     "output_type": "execute_result"
    }
   ],
   "source": [
    "model_path=os.path.join(\"trained\\cls_2048_eval\\models\\model.pth\")\n",
    "\n",
    "model=torch.nn.DataParallel(DGCNN_cls(args))\n",
    "load_model=torch.load(model_path, map_location='cpu')\n",
    "model.load_state_dict(load_model)\n",
    "model.eval()"
   ]
  },
  {
   "cell_type": "code",
   "execution_count": 32,
   "metadata": {},
   "outputs": [
    {
     "name": "stdout",
     "output_type": "stream",
     "text": [
      "prediction: Bauteil-025 with the confidence of 0.948934018611908 actual: Bauteil-017\n"
     ]
    }
   ],
   "source": [
    "i=np.random.randint(0,len(points))\n",
    "\n",
    "pcd = o3d.geometry.PointCloud()\n",
    "pcd.points= o3d.utility.Vector3dVector(points[i])\n",
    "o3d.visualization.draw_geometries([pcd])\n",
    "# print(type(points[i]))\n",
    "# print(torch.tensor(points[i].T.reshape([1,3,2048])).shape)\n",
    "# in_points=torch.tensor(points[i][:1024].T.reshape([1,3,1024]))\n",
    "output=model(torch.tensor(points[i].T.reshape([1,3,2048])))[0]\n",
    "prediction=torch.argmax(output,axis=0)\n",
    "confidence=1-(torch.mean(torch.abs(output))/output[prediction])\n",
    "print(f\"prediction: {label_names[labels[prediction]]} with the confidence of {confidence} actual: {label_names[labels[i]]}\")"
   ]
  }
 ],
 "metadata": {
  "kernelspec": {
   "display_name": "Python 3.9.0 64-bit (system)",
   "language": "python",
   "name": "python3"
  },
  "language_info": {
   "codemirror_mode": {
    "name": "ipython",
    "version": 3
   },
   "file_extension": ".py",
   "mimetype": "text/x-python",
   "name": "python",
   "nbconvert_exporter": "python",
   "pygments_lexer": "ipython3",
   "version": "3.9.0"
  },
  "orig_nbformat": 4,
  "vscode": {
   "interpreter": {
    "hash": "22000c05c3afcfbd783bf71318124a86aacb67da638cd89725168a4fec0b7d83"
   }
  }
 },
 "nbformat": 4,
 "nbformat_minor": 2
}
