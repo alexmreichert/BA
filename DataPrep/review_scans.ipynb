{
 "cells": [
  {
   "cell_type": "code",
   "execution_count": 1,
   "metadata": {},
   "outputs": [
    {
     "name": "stdout",
     "output_type": "stream",
     "text": [
      "Jupyter environment detected. Enabling Open3D WebVisualizer.\n",
      "[Open3D INFO] WebRTC GUI backend enabled.\n",
      "[Open3D INFO] WebRTCWindowSystem: HTTP handshake server disabled.\n"
     ]
    }
   ],
   "source": [
    "import os\n",
    "from tqdm import tqdm\n",
    "from azure.storage.blob import ContainerClient\n",
    "from azure.core import exceptions\n",
    "import yaml\n",
    "from distutils.command.config import config\n",
    "from tkinter import N\n",
    "from azure.servicebus import ServiceBusClient, ServiceBusMessage, exceptions \n",
    "from copy import deepcopy\n",
    "\n",
    "import open3d as o3d\n",
    "import numpy as np\n",
    "import h5py\n",
    "import re\n",
    "\n",
    "#functions\n",
    "def load_config(dir_config):\n",
    "    with open(os.path.join(dir_config, \"config.yaml\"), \"r\") as yamlfile:\n",
    "        return yaml.load(yamlfile, Loader=yaml.FullLoader)\n",
    "\n",
    "\n",
    "\n",
    "pipename_local_to_data_prep = \"lmdp\"\n",
    "pipename_data_prep_to_local= \"dplm\"\n",
    "pipename_data_prep_to_ID_NN= \"dpin\"\n",
    "pipename_data_prep_to_ID_reg= \"dpir\"\n",
    "pipename_img_gen_to_train_reg= \"imtr\"\n",
    "pipename_img_gen_to_train_ML= \"imtm\"\n",
    "pipename_train_ML_to_train_ML= \"tmtm\"\n",
    "pipename_local_to_img_gen= \"lmim\"\n"
   ]
  },
  {
   "cell_type": "code",
   "execution_count": 2,
   "metadata": {},
   "outputs": [],
   "source": [
    "config=load_config(\"\")\n",
    "container_name=config[\"container_name\"]+pipename_local_to_data_prep\n",
    "container_client = ContainerClient.from_connection_string(config[\"azure_storage_connection_string\"], container_name)\n",
    "save_path=\"temp\""
   ]
  },
  {
   "cell_type": "code",
   "execution_count": 3,
   "metadata": {},
   "outputs": [],
   "source": [
    "pcds=[]\n",
    "labels=[]"
   ]
  },
  {
   "cell_type": "code",
   "execution_count": 5,
   "metadata": {},
   "outputs": [
    {
     "name": "stdout",
     "output_type": "stream",
     "text": [
      "part22_scan0.pcd\n",
      "part23_scan0.pcd\n",
      "part24_scan0.pcd\n",
      "part25_scan0.pcd\n",
      "part26_scan0.pcd\n",
      "part27_scan0.pcd\n",
      "part28_scan0.pcd\n",
      "part29_scan0.pcd\n",
      "part2_scan0.pcd\n",
      "part30_scan0.pcd\n",
      "part31_scan0.pcd\n",
      "part32_scan0.pcd\n",
      "part33_scan0.pcd\n",
      "part34_scan0.pcd\n",
      "part35_scan0.pcd\n",
      "part36_scan0.pcd\n",
      "part37_scan0.pcd\n",
      "part38_scan0.pcd\n",
      "part39_scan0.pcd\n",
      "part3_scan0.pcd\n",
      "part40_scan0.pcd\n",
      "part41_scan0.pcd\n",
      "part42_scan0.pcd\n",
      "part43_scan0.pcd\n",
      "part44_scan0.pcd\n",
      "part45_scan0.pcd\n",
      "part46_scan0.pcd\n",
      "part47_scan0.pcd\n",
      "part48_scan0.pcd\n",
      "part4_scan0.pcd\n",
      "part5_scan0.pcd\n",
      "part6_scan0.pcd\n",
      "part7_scan0.pcd\n",
      "part8_scan0.pcd\n",
      "part9_scan0.pcd\n"
     ]
    }
   ],
   "source": [
    "if not container_client.exists(): \n",
    "    print(\"wrong connection_string\")\n",
    "else:\n",
    "    blobs=container_client.list_blobs()\n",
    "    # print(f\"len blobs {len(blobs)}\")\n",
    "    counter=0\n",
    "    for blob in blobs:\n",
    "        blob_name=blob.name\n",
    "        if blob_name.startswith(\"part\"):\n",
    "            part_name=blob_name.split(\"_\")[0]\n",
    "            if part_name in labels: continue\n",
    "            labels.append(part_name)\n",
    "            StorageStreamDownloader = container_client.download_blob(blob)\n",
    "            filename=os.path.join(save_path,blob_name)\n",
    "            try:\n",
    "                file = open(filename, 'wb')\n",
    "            except FileNotFoundError:\n",
    "                os.mkdir(save_path)\n",
    "                file = open(filename, 'wb')\n",
    "            data=StorageStreamDownloader.readall()\n",
    "            file.write(data)\n",
    "            file.close()\n",
    "            print(blob_name)\n",
    "            # pcds.append(o3d.io.read_point_cloud(filename))\n",
    "            os.remove(filename)\n"
   ]
  },
  {
   "cell_type": "code",
   "execution_count": 12,
   "metadata": {},
   "outputs": [
    {
     "name": "stdout",
     "output_type": "stream",
     "text": [
      "list: [0, 1, 2, 3, 4, 5, 6, 7, 8, 9, 10, 11, 12, 13, 14, 15, 16, 17, 18, 19, 20, 21, 22, 23, 24, 25, 26, 27, 28, 29, 30, 31, 32, 33, 34, 35, 36, 37, 38, 39, 40, 41, 42, 43, 44, 45, 46, 47, 48]\n"
     ]
    }
   ],
   "source": [
    "number_list=[]\n",
    "for label in labels:\n",
    "    match=re.match(r\"part(\\d+)\",label)\n",
    "    number=match.group(1)\n",
    "    number_list.append(int(number))\n",
    "number_list.sort()\n",
    "print(\"list: %s\"%(number_list))"
   ]
  },
  {
   "cell_type": "code",
   "execution_count": 7,
   "metadata": {},
   "outputs": [],
   "source": [
    "import time"
   ]
  },
  {
   "cell_type": "code",
   "execution_count": 10,
   "metadata": {},
   "outputs": [
    {
     "name": "stdout",
     "output_type": "stream",
     "text": [
      "part0\n",
      "part10\n",
      "part11\n",
      "[Open3D WARNING] GLFW Error: WGL: Failed to make context current: The requested transformation operation is not supported. \n",
      "part12\n",
      "part13\n",
      "part14\n",
      "part15\n",
      "part16\n",
      "part17\n",
      "part18\n",
      "part19\n",
      "part1\n",
      "part20\n",
      "part21\n",
      "part22\n",
      "part23\n",
      "part24\n",
      "part25\n",
      "part26\n",
      "part27\n",
      "part28\n",
      "part29\n",
      "part2\n",
      "part30\n",
      "part31\n",
      "part32\n",
      "part33\n",
      "part34\n",
      "part35\n",
      "[Open3D WARNING] GLFW Error: WGL: Failed to make context current: The handle is invalid. \n",
      "part36\n",
      "part37\n",
      "part38\n",
      "part39\n",
      "part3\n",
      "part40\n",
      "part41\n",
      "part42\n",
      "part43\n",
      "part44\n",
      "part45\n",
      "part46\n",
      "part47\n",
      "part48\n",
      "part4\n",
      "part5\n",
      "part6\n",
      "[Open3D WARNING] GLFW Error: WGL: Failed to make context current: The requested transformation operation is not supported. \n",
      "part7\n",
      "part8\n",
      "part9\n"
     ]
    }
   ],
   "source": [
    "# vis = o3d.visualization.Visualizer()\n",
    "for i in range(len(pcds)):\n",
    "    print(labels[i])\n",
    "    o3d.visualization.draw_geometries([pcds[i]])\n"
   ]
  }
 ],
 "metadata": {
  "kernelspec": {
   "display_name": "Python 3.9.0 ('vnv')",
   "language": "python",
   "name": "python3"
  },
  "language_info": {
   "codemirror_mode": {
    "name": "ipython",
    "version": 3
   },
   "file_extension": ".py",
   "mimetype": "text/x-python",
   "name": "python",
   "nbconvert_exporter": "python",
   "pygments_lexer": "ipython3",
   "version": "3.9.0"
  },
  "orig_nbformat": 4,
  "vscode": {
   "interpreter": {
    "hash": "22000c05c3afcfbd783bf71318124a86aacb67da638cd89725168a4fec0b7d83"
   }
  }
 },
 "nbformat": 4,
 "nbformat_minor": 2
}
