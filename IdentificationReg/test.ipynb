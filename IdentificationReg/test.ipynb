{
 "cells": [
  {
   "cell_type": "code",
   "execution_count": 61,
   "metadata": {},
   "outputs": [],
   "source": [
    "import open3d as o3d\n",
    "import pandas as pd\n",
    "import numpy as np\n",
    "\n",
    "# azure\n",
    "from pathlib import Path\n",
    "import yaml\n",
    "from azure.storage.blob import ContainerClient\n",
    "from azure.core import exceptions\n",
    "import re\n",
    "from azure.servicebus import ServiceBusClient, ServiceBusMessage\n",
    "from datetime import datetime\n",
    "import os\n",
    "import time\n",
    "\n",
    "from annoy import AnnoyIndex"
   ]
  },
  {
   "cell_type": "code",
   "execution_count": 62,
   "metadata": {},
   "outputs": [],
   "source": [
    "\n",
    "def download(connection_string, container_name, save_path,name_part=None, download_one=False):\n",
    "    container_client = ContainerClient.from_connection_string(connection_string, container_name)\n",
    "    labels=[]\n",
    "    if not container_client.exists(): \n",
    "        print(\"wrong connection_string\")\n",
    "        return None\n",
    "    else:\n",
    "        blobs=container_client.list_blobs()\n",
    "        for blob in blobs:\n",
    "            blob_name=blob.name\n",
    "            if (name_part is not None) and (blob_name!=name_part):continue\n",
    "            filename=os.path.join(save_path,blob_name)\n",
    "            if Path(filename).exists():\n",
    "                labels.append(blob_name)\n",
    "            else:\n",
    "                StorageStreamDownloader = container_client.download_blob(blob)\n",
    "                try:\n",
    "                    file = open(filename, 'wb')\n",
    "                except FileNotFoundError:\n",
    "                    os.mkdir(save_path)\n",
    "                    file = open(filename, 'wb')\n",
    "                data=StorageStreamDownloader.readall()\n",
    "                print(f\"saving locally: {blob_name}\")\n",
    "                file.write(data)\n",
    "                file.close()\n",
    "                labels.append(blob_name)\n",
    "            if download_one: break\n",
    "    return labels\n",
    "\n",
    "def load_config(dir_config):\n",
    "    with open(os.path.join(dir_config, \"config.yaml\"), \"r\") as yamlfile:\n",
    "        return yaml.load(yamlfile, Loader=yaml.FullLoader)\n",
    "\n",
    "#score function\n",
    "def get_score(annoyindex,points, print_stuff=False, vizualize_stuff=False, og_points=np.zeros((1,3))):\n",
    "    NN_lines=np.zeros((len(points),2))\n",
    "    NN_distances=np.zeros((len(points)))\n",
    "    t_var=time.time()\n",
    "    for NN_index in range(len(points)):\n",
    "        index, dst = annoyindex.get_nns_by_vector(points[NN_index,:], 1, include_distances=True)\n",
    "        if vizualize_stuff:NN_lines[NN_index,:]    =   [len(og_points)+NN_index,index[0]]\n",
    "        NN_distances[NN_index]  =   dst[0]\n",
    "    if print_stuff: print(f\"took {time.time()-t_var} seconds to find nearest neighbors\")\n",
    "    score = np.sum(NN_distances/len(points))\n",
    "    if vizualize_stuff:\n",
    "        points=np.concatenate((og_points,points))\n",
    "        colors = [[0,0,1] for i in NN_lines]\n",
    "        lineset=o3d.geometry.LineSet(\n",
    "            points=o3d.utility.Vector3dVector(points),\n",
    "            lines=o3d.utility.Vector2iVector(NN_lines),\n",
    "        )\n",
    "        lineset.colors = o3d.utility.Vector3dVector(colors)\n",
    "        return score, lineset\n",
    "    return score\n"
   ]
  },
  {
   "cell_type": "code",
   "execution_count": null,
   "metadata": {},
   "outputs": [],
   "source": []
  },
  {
   "cell_type": "code",
   "execution_count": 4,
   "metadata": {},
   "outputs": [],
   "source": [
    "config=load_config(\"app\")"
   ]
  },
  {
   "cell_type": "markdown",
   "metadata": {},
   "source": [
    "## GET PCD AND CHECK "
   ]
  },
  {
   "cell_type": "code",
   "execution_count": 63,
   "metadata": {},
   "outputs": [
    {
     "name": "stdout",
     "output_type": "stream",
     "text": [
      "saving locally: 0ogpcdrotation.pcd\n",
      "saving locally: 0ogpcdsource.pcd\n",
      "saving locally: 0ogpcdtarget.pcd\n",
      "saving locally: 0ogpcdtranslation.pcd\n",
      "saving locally: 10ogpcdrotation.pcd\n",
      "saving locally: 10ogpcdsource.pcd\n",
      "saving locally: 10ogpcdtarget.pcd\n",
      "saving locally: 10ogpcdtranslation.pcd\n",
      "saving locally: 11ogpcdrotation.pcd\n",
      "saving locally: 11ogpcdsource.pcd\n",
      "saving locally: 11ogpcdtarget.pcd\n",
      "saving locally: 11ogpcdtranslation.pcd\n",
      "saving locally: 12ogpcdrotation.pcd\n",
      "saving locally: 12ogpcdsource.pcd\n",
      "saving locally: 12ogpcdtarget.pcd\n",
      "saving locally: 12ogpcdtranslation.pcd\n",
      "saving locally: 13ogpcdrotation.pcd\n",
      "saving locally: 13ogpcdsource.pcd\n",
      "saving locally: 13ogpcdtarget.pcd\n",
      "saving locally: 13ogpcdtranslation.pcd\n",
      "saving locally: 14ogpcdrotation.pcd\n",
      "saving locally: 14ogpcdsource.pcd\n",
      "saving locally: 14ogpcdtarget.pcd\n",
      "saving locally: 14ogpcdtranslation.pcd\n",
      "saving locally: 15ogpcdrotation.pcd\n",
      "saving locally: 15ogpcdsource.pcd\n",
      "saving locally: 15ogpcdtarget.pcd\n",
      "saving locally: 15ogpcdtranslation.pcd\n",
      "saving locally: 16ogpcdrotation.pcd\n",
      "saving locally: 16ogpcdsource.pcd\n",
      "saving locally: 16ogpcdtarget.pcd\n",
      "saving locally: 16ogpcdtranslation.pcd\n",
      "saving locally: 17ogpcdrotation.pcd\n",
      "saving locally: 17ogpcdsource.pcd\n",
      "saving locally: 17ogpcdtarget.pcd\n",
      "saving locally: 17ogpcdtranslation.pcd\n",
      "saving locally: 18ogpcdrotation.pcd\n",
      "saving locally: 18ogpcdsource.pcd\n",
      "saving locally: 18ogpcdtarget.pcd\n",
      "saving locally: 18ogpcdtranslation.pcd\n",
      "saving locally: 19ogpcdrotation.pcd\n",
      "saving locally: 19ogpcdsource.pcd\n",
      "saving locally: 19ogpcdtarget.pcd\n",
      "saving locally: 19ogpcdtranslation.pcd\n",
      "saving locally: 1ogpcdrotation.pcd\n",
      "saving locally: 1ogpcdsource.pcd\n",
      "saving locally: 1ogpcdtarget.pcd\n",
      "saving locally: 1ogpcdtranslation.pcd\n",
      "saving locally: 20ogpcdrotation.pcd\n",
      "saving locally: 20ogpcdsource.pcd\n",
      "saving locally: 20ogpcdtarget.pcd\n",
      "saving locally: 20ogpcdtranslation.pcd\n",
      "saving locally: 21ogpcdrotation.pcd\n",
      "saving locally: 21ogpcdsource.pcd\n",
      "saving locally: 21ogpcdtarget.pcd\n",
      "saving locally: 21ogpcdtranslation.pcd\n",
      "saving locally: 22ogpcdrotation.pcd\n",
      "saving locally: 22ogpcdsource.pcd\n",
      "saving locally: 22ogpcdtarget.pcd\n",
      "saving locally: 22ogpcdtranslation.pcd\n",
      "saving locally: 23ogpcdrotation.pcd\n",
      "saving locally: 23ogpcdsource.pcd\n",
      "saving locally: 23ogpcdtarget.pcd\n",
      "saving locally: 23ogpcdtranslation.pcd\n",
      "saving locally: 2ogpcdrotation.pcd\n",
      "saving locally: 2ogpcdsource.pcd\n",
      "saving locally: 2ogpcdtarget.pcd\n",
      "saving locally: 2ogpcdtranslation.pcd\n",
      "saving locally: 3ogpcdrotation.pcd\n",
      "saving locally: 3ogpcdsource.pcd\n",
      "saving locally: 3ogpcdtarget.pcd\n",
      "saving locally: 3ogpcdtranslation.pcd\n",
      "saving locally: 4ogpcdrotation.pcd\n",
      "saving locally: 4ogpcdsource.pcd\n",
      "saving locally: 4ogpcdtarget.pcd\n",
      "saving locally: 4ogpcdtranslation.pcd\n",
      "saving locally: 5ogpcdrotation.pcd\n",
      "saving locally: 5ogpcdsource.pcd\n",
      "saving locally: 5ogpcdtarget.pcd\n",
      "saving locally: 5ogpcdtranslation.pcd\n",
      "saving locally: 6ogpcdrotation.pcd\n",
      "saving locally: 6ogpcdsource.pcd\n",
      "saving locally: 6ogpcdtarget.pcd\n",
      "saving locally: 6ogpcdtranslation.pcd\n",
      "saving locally: 7ogpcdrotation.pcd\n",
      "saving locally: 7ogpcdsource.pcd\n",
      "saving locally: 7ogpcdtarget.pcd\n",
      "saving locally: 7ogpcdtranslation.pcd\n",
      "saving locally: 8ogpcdrotation.pcd\n",
      "saving locally: 8ogpcdsource.pcd\n",
      "saving locally: 8ogpcdtarget.pcd\n",
      "saving locally: 8ogpcdtranslation.pcd\n",
      "saving locally: 9ogpcdrotation.pcd\n",
      "saving locally: 9ogpcdsource.pcd\n",
      "saving locally: 9ogpcdtarget.pcd\n",
      "saving locally: 9ogpcdtranslation.pcd\n",
      "saving locally: csv0inlierlines.csv\n",
      "saving locally: csv0inlierpoints.csv\n",
      "saving locally: csv0outlierlines.csv\n",
      "saving locally: csv0outlierpoints.csv\n",
      "saving locally: csv0points1.csv\n",
      "saving locally: csv0points2.csv\n",
      "saving locally: csv0src.csv\n",
      "saving locally: csv0tar.csv\n",
      "saving locally: csv10inlierlines.csv\n",
      "saving locally: csv10inlierpoints.csv\n",
      "saving locally: csv10outlierlines.csv\n",
      "saving locally: csv10outlierpoints.csv\n",
      "saving locally: csv10points1.csv\n",
      "saving locally: csv10points2.csv\n",
      "saving locally: csv10src.csv\n",
      "saving locally: csv10tar.csv\n",
      "saving locally: csv11inlierlines.csv\n",
      "saving locally: csv11inlierpoints.csv\n",
      "saving locally: csv11outlierlines.csv\n",
      "saving locally: csv11outlierpoints.csv\n",
      "saving locally: csv11points1.csv\n",
      "saving locally: csv11points2.csv\n",
      "saving locally: csv11src.csv\n",
      "saving locally: csv11tar.csv\n",
      "saving locally: csv12inlierlines.csv\n",
      "saving locally: csv12inlierpoints.csv\n",
      "saving locally: csv12outlierlines.csv\n",
      "saving locally: csv12outlierpoints.csv\n",
      "saving locally: csv12points1.csv\n",
      "saving locally: csv12points2.csv\n",
      "saving locally: csv12src.csv\n",
      "saving locally: csv12tar.csv\n",
      "saving locally: csv13inlierlines.csv\n",
      "saving locally: csv13inlierpoints.csv\n",
      "saving locally: csv13outlierlines.csv\n",
      "saving locally: csv13outlierpoints.csv\n",
      "saving locally: csv13points1.csv\n",
      "saving locally: csv13points2.csv\n",
      "saving locally: csv13src.csv\n",
      "saving locally: csv13tar.csv\n",
      "saving locally: csv1inlierlines.csv\n",
      "saving locally: csv1inlierpoints.csv\n",
      "saving locally: csv1outlierlines.csv\n",
      "saving locally: csv1outlierpoints.csv\n",
      "saving locally: csv1points1.csv\n",
      "saving locally: csv1points2.csv\n",
      "saving locally: csv1src.csv\n",
      "saving locally: csv1tar.csv\n",
      "saving locally: csv2inlierlines.csv\n",
      "saving locally: csv2inlierpoints.csv\n",
      "saving locally: csv2outlierlines.csv\n",
      "saving locally: csv2outlierpoints.csv\n",
      "saving locally: csv2points1.csv\n",
      "saving locally: csv2points2.csv\n",
      "saving locally: csv2src.csv\n",
      "saving locally: csv2tar.csv\n",
      "saving locally: csv3inlierlines.csv\n",
      "saving locally: csv3inlierpoints.csv\n",
      "saving locally: csv3outlierlines.csv\n",
      "saving locally: csv3outlierpoints.csv\n",
      "saving locally: csv3points1.csv\n",
      "saving locally: csv3points2.csv\n",
      "saving locally: csv3src.csv\n",
      "saving locally: csv3tar.csv\n",
      "saving locally: csv4inlierlines.csv\n",
      "saving locally: csv4inlierpoints.csv\n",
      "saving locally: csv4outlierlines.csv\n",
      "saving locally: csv4outlierpoints.csv\n",
      "saving locally: csv4points1.csv\n",
      "saving locally: csv4points2.csv\n",
      "saving locally: csv4src.csv\n",
      "saving locally: csv4tar.csv\n",
      "saving locally: csv5inlierlines.csv\n",
      "saving locally: csv5inlierpoints.csv\n",
      "saving locally: csv5outlierlines.csv\n",
      "saving locally: csv5outlierpoints.csv\n",
      "saving locally: csv5points1.csv\n",
      "saving locally: csv5points2.csv\n",
      "saving locally: csv5src.csv\n",
      "saving locally: csv5tar.csv\n",
      "saving locally: csv6inlierlines.csv\n",
      "saving locally: csv6inlierpoints.csv\n",
      "saving locally: csv6outlierlines.csv\n",
      "saving locally: csv6outlierpoints.csv\n",
      "saving locally: csv6points1.csv\n",
      "saving locally: csv6points2.csv\n",
      "saving locally: csv6src.csv\n",
      "saving locally: csv6tar.csv\n",
      "saving locally: csv7inlierlines.csv\n",
      "saving locally: csv7inlierpoints.csv\n",
      "saving locally: csv7outlierlines.csv\n",
      "saving locally: csv7outlierpoints.csv\n",
      "saving locally: csv7points1.csv\n",
      "saving locally: csv7points2.csv\n",
      "saving locally: csv7src.csv\n",
      "saving locally: csv7tar.csv\n",
      "saving locally: csv8inlierlines.csv\n",
      "saving locally: csv8inlierpoints.csv\n",
      "saving locally: csv8outlierlines.csv\n",
      "saving locally: csv8outlierpoints.csv\n",
      "saving locally: csv8points1.csv\n",
      "saving locally: csv8points2.csv\n",
      "saving locally: csv8src.csv\n",
      "saving locally: csv8tar.csv\n",
      "saving locally: csv9inlierlines.csv\n",
      "saving locally: csv9inlierpoints.csv\n",
      "saving locally: csv9outlierlines.csv\n",
      "saving locally: csv9outlierpoints.csv\n",
      "saving locally: csv9points1.csv\n",
      "saving locally: csv9points2.csv\n",
      "saving locally: csv9src.csv\n",
      "saving locally: csv9tar.csv\n"
     ]
    }
   ],
   "source": [
    "\n",
    "container_name=\"containertest\"\n",
    "test_path = os.path.join(\"test\")\n",
    "labels=download(config[\"azure_storage_connectionstring\"], container_name, test_path)"
   ]
  },
  {
   "cell_type": "code",
   "execution_count": null,
   "metadata": {},
   "outputs": [],
   "source": []
  },
  {
   "cell_type": "code",
   "execution_count": 66,
   "metadata": {},
   "outputs": [],
   "source": [
    "pcd_src     =o3d.io.read_point_cloud(os.path.join(test_path, \"12ogpcdsource.pcd\"))\n",
    "pcd_targ    =o3d.io.read_point_cloud(os.path.join(test_path, \"12ogpcdtarget.pcd\"))\n",
    "pcd_rot     =o3d.io.read_point_cloud(os.path.join(test_path, \"12ogpcdrotation.pcd\"))\n",
    "pcd_tran    =o3d.io.read_point_cloud(os.path.join(test_path, \"12ogpcdtranslation.pcd\"))"
   ]
  },
  {
   "cell_type": "code",
   "execution_count": null,
   "metadata": {},
   "outputs": [],
   "source": []
  },
  {
   "cell_type": "code",
   "execution_count": 67,
   "metadata": {},
   "outputs": [],
   "source": [
    "o3d.visualization.draw_geometries([pcd_src,pcd_targ])\n",
    "o3d.visualization.draw_geometries([pcd_targ, pcd_tran])\n"
   ]
  },
  {
   "cell_type": "code",
   "execution_count": 38,
   "metadata": {},
   "outputs": [],
   "source": [
    "# reg_p2p = o3d.pipelines.registration.registration_icp(\n",
    "#     pcd_targ, pcd_tran, 0.01, np.eye(4),\n",
    "#     o3d.pipelines.registration.TransformationEstimationPointToPoint(),\n",
    "#     o3d.pipelines.registration.ICPConvergenceCriteria(max_iteration=1000))\n",
    "# pcd_tran.transform(reg_p2p.transformation)\n",
    "# print(reg_p2p)\n",
    "o3d.visualization.draw_geometries([pcd_targ, pcd_tran])"
   ]
  },
  {
   "cell_type": "markdown",
   "metadata": {},
   "source": [
    "create graph"
   ]
  },
  {
   "cell_type": "code",
   "execution_count": 68,
   "metadata": {},
   "outputs": [
    {
     "data": {
      "text/plain": [
       "True"
      ]
     },
     "execution_count": 68,
     "metadata": {},
     "output_type": "execute_result"
    }
   ],
   "source": [
    "t = AnnoyIndex(3, 'euclidean')\n",
    "pcd_points=np.asarray(pcd_tran.points)\n",
    "\n",
    "for i in range(len(pcd_points)):\n",
    "    v = pcd_points[i,:]\n",
    "    t.add_item(i, v)\n",
    "t.build(10)\n"
   ]
  },
  {
   "cell_type": "markdown",
   "metadata": {},
   "source": [
    "distance-\n",
    "0.022724191734964656"
   ]
  },
  {
   "cell_type": "code",
   "execution_count": 69,
   "metadata": {},
   "outputs": [
    {
     "name": "stdout",
     "output_type": "stream",
     "text": [
      "0.009555719628555361\n"
     ]
    }
   ],
   "source": [
    "pcd_scan_points=np.asarray(pcd_targ.points)\n",
    "pcd_points=np.asarray(pcd_tran.points)\n",
    "score,lineset=get_score(t,pcd_scan_points, vizualize_stuff=True, og_points=pcd_points)\n",
    "print(score)\n",
    "\n",
    "o3d.visualization.draw_geometries([pcd_tran,pcd_targ,lineset])"
   ]
  },
  {
   "cell_type": "markdown",
   "metadata": {},
   "source": [
    "### GET THE RESULTS AND PUT INTO ARRAY "
   ]
  },
  {
   "cell_type": "markdown",
   "metadata": {},
   "source": [
    "*shape: 16x24x24*"
   ]
  },
  {
   "cell_type": "code",
   "execution_count": null,
   "metadata": {},
   "outputs": [],
   "source": [
    "container_name=\"containertest\"\n",
    "test_path = os.path.join(\"test\")\n",
    "labels=download(config[\"azure_storage_connectionstring\"], container_name, test_path)"
   ]
  }
 ],
 "metadata": {
  "kernelspec": {
   "display_name": "Python 3.9.0 ('vnv')",
   "language": "python",
   "name": "python3"
  },
  "language_info": {
   "codemirror_mode": {
    "name": "ipython",
    "version": 3
   },
   "file_extension": ".py",
   "mimetype": "text/x-python",
   "name": "python",
   "nbconvert_exporter": "python",
   "pygments_lexer": "ipython3",
   "version": "3.9.0"
  },
  "orig_nbformat": 4,
  "vscode": {
   "interpreter": {
    "hash": "22000c05c3afcfbd783bf71318124a86aacb67da638cd89725168a4fec0b7d83"
   }
  }
 },
 "nbformat": 4,
 "nbformat_minor": 2
}
